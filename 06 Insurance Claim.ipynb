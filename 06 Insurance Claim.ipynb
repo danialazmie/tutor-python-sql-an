{
 "cells": [
  {
   "cell_type": "markdown",
   "metadata": {},
   "source": [
    "# Risk Analyst Python Workflow: Analyzing Car Insurance Claims"
   ]
  },
  {
   "cell_type": "markdown",
   "metadata": {},
   "source": [
    "Tasks:\n",
    "1. Load and explore the dataset\n",
    "2. Preprocess the data (handle missing values, encode categorical variables)\n",
    "3. Perform basic analysis (EDA)\n",
    "4. Visualize findings\n",
    "5. Analyze the relationship between variables\n",
    "6. Create a simple risk score (optional)\n",
    "7. Create a summary, and save the preprocessed data into a CSV\n",
    "8. Extra: Save the encoded DataFrame and pickle the dictionaries"
   ]
  },
  {
   "cell_type": "markdown",
   "metadata": {},
   "source": [
    "## Some questions to spark ideas\n",
    "\n",
    "### Data Exploration and Preprocessing\n",
    "\n",
    "1. How many unique categories are there in the 'driving_experience' column? What is the distribution of these categories?\n",
    "2. Is there a significant difference in outcomes between different age groups?\n",
    "3. Calculate the percentage of missing values in each column. Which columns have the highest percentage of missing values?\n",
    "4. Create a new feature 'claims_per_year' by dividing the 'past_accidents' by the number of years of driving experience.\n",
    "5. Find the distribution of the claim outcomes. What does this tell you about the nature of insurance claims?\n",
    "\n",
    "### Data Visualization\n",
    "\n",
    "1. Create a heatmap of the correlation matrix for all numerical variables. What insights can you draw from this visualization?\n",
    "2. Generate a pair plot for age, credit_score, past_accidents, and DUIs. What patterns or relationships do you observe?\n",
    "3. Create a visualization showing the proportion of claims by driving experience categories for different age groups (you may need to bin the age variable).\n",
    "\n",
    "### Risk Assessment\n",
    "\n",
    "1. Create a calculation to derive a new metric 'risk score'.\n",
    "2. Create a function that categorizes policyholders into 'Low', 'Medium', and 'High' risk based on your risk score. What percentage of policyholders fall into each category?\n",
    "\n"
   ]
  },
  {
   "cell_type": "markdown",
   "metadata": {},
   "source": [
    "\n",
    "## 1. Load and explore the dataset\n"
   ]
  },
  {
   "cell_type": "code",
   "execution_count": null,
   "metadata": {},
   "outputs": [],
   "source": [
    "\n",
    "import pandas as pd\n",
    "import numpy as np\n",
    "import matplotlib.pyplot as plt\n",
    "import seaborn as sns\n"
   ]
  },
  {
   "cell_type": "code",
   "execution_count": null,
   "metadata": {},
   "outputs": [],
   "source": [
    "\n",
    "# Load the dataset\n",
    "df = pd.read_csv('data/car_insurance_claim.csv')\n"
   ]
  },
  {
   "cell_type": "code",
   "execution_count": null,
   "metadata": {},
   "outputs": [],
   "source": [
    "# Display basic information about the dataset\n",
    "df.info()\n"
   ]
  },
  {
   "cell_type": "code",
   "execution_count": null,
   "metadata": {},
   "outputs": [],
   "source": [
    "# Show the first few rows\n",
    "df.head()\n"
   ]
  },
  {
   "cell_type": "code",
   "execution_count": null,
   "metadata": {},
   "outputs": [],
   "source": [
    "# Display summary statistics\n",
    "df.describe()\n"
   ]
  },
  {
   "cell_type": "code",
   "execution_count": null,
   "metadata": {},
   "outputs": [],
   "source": [
    "df.columns = df.columns.str.lower()"
   ]
  },
  {
   "cell_type": "markdown",
   "metadata": {},
   "source": [
    "\n",
    "## 2. Preprocess the data\n"
   ]
  },
  {
   "cell_type": "code",
   "execution_count": null,
   "metadata": {},
   "outputs": [],
   "source": [
    "# Handle missing values\n",
    "df['credit_score'].fillna(df['credit_score'].mean(), inplace=True)\n",
    "\n",
    "df['annual_mileage'].fillna(df['annual_mileage'].mean(), inplace=True)\n"
   ]
  },
  {
   "cell_type": "markdown",
   "metadata": {},
   "source": [
    "\n",
    "## 3. Perform basic statistical analysis\n"
   ]
  },
  {
   "cell_type": "code",
   "execution_count": null,
   "metadata": {},
   "outputs": [],
   "source": [
    "df.describe()"
   ]
  },
  {
   "cell_type": "code",
   "execution_count": null,
   "metadata": {},
   "outputs": [],
   "source": [
    "cols = [\n",
    "    'credit_score',\n",
    "    'vehicle_ownership',\n",
    "    'married',\n",
    "    'children',\n",
    "    'annual_mileage',\n",
    "    'speeding_violations',\n",
    "    'duis',\n",
    "    'past_accidents',\n",
    "    'outcome'\n",
    "]\n",
    "\n",
    "df[cols].corr()"
   ]
  },
  {
   "cell_type": "code",
   "execution_count": null,
   "metadata": {},
   "outputs": [],
   "source": [
    "sns.heatmap(df[cols].corr(), annot=True)"
   ]
  },
  {
   "cell_type": "markdown",
   "metadata": {},
   "source": [
    "\n",
    "## 4. Visualize claim distributions\n"
   ]
  },
  {
   "cell_type": "code",
   "execution_count": null,
   "metadata": {},
   "outputs": [],
   "source": [
    "\n",
    "plt.figure(figsize=(10, 6))\n",
    "plt.hist(df['annual_mileage'])\n",
    "plt.title('Annual Mileage Distribution')\n",
    "plt.xlabel('Annual Mileage')\n",
    "plt.ylabel('Frequency')\n",
    "plt.show()\n"
   ]
  },
  {
   "cell_type": "markdown",
   "metadata": {},
   "source": [
    "\n",
    "## 5. Analyze the relationship between variables\n"
   ]
  },
  {
   "cell_type": "code",
   "execution_count": null,
   "metadata": {},
   "outputs": [],
   "source": [
    "fig, ax1 = plt.subplots()\n",
    "\n",
    "ax1.bar(df['past_accidents'].unique(), df['past_accidents'].value_counts())\n",
    "ax1.set_xlabel('Past Accidents')\n",
    "ax1.set_ylabel('Count')\n",
    "\n",
    "ax2 = ax1.twinx()\n",
    "ax2.plot(df.groupby('past_accidents')['outcome'].mean(), color='red')\n",
    "ax2.set_ylabel('Mean Outcome')"
   ]
  },
  {
   "cell_type": "code",
   "execution_count": null,
   "metadata": {},
   "outputs": [],
   "source": [
    "fig, ax1 = plt.subplots()\n",
    "\n",
    "ax1.bar(df['duis'].unique(), df['duis'].value_counts())\n",
    "ax1.set_xlabel('DUIs')\n",
    "ax1.set_ylabel('Count')\n",
    "\n",
    "ax2 = ax1.twinx()\n",
    "ax2.plot(df.groupby('duis')['outcome'].mean(), color='red')\n",
    "ax2.set_ylabel('Mean Outcome')"
   ]
  },
  {
   "cell_type": "code",
   "execution_count": null,
   "metadata": {},
   "outputs": [],
   "source": [
    "fig, ax1 = plt.subplots()\n",
    "\n",
    "ax1.bar(df['speeding_violations'].unique(), df['speeding_violations'].value_counts())\n",
    "ax1.set_xlabel('Speeding Violations')\n",
    "ax1.set_ylabel('Count')\n",
    "\n",
    "ax2 = ax1.twinx()\n",
    "ax2.plot(df.groupby('speeding_violations')['outcome'].mean(), color='red')\n",
    "ax2.set_ylabel('Mean Outcome')"
   ]
  },
  {
   "cell_type": "code",
   "execution_count": null,
   "metadata": {},
   "outputs": [],
   "source": []
  }
 ],
 "metadata": {
  "kernelspec": {
   "display_name": "tutor-an",
   "language": "python",
   "name": "python3"
  },
  "language_info": {
   "codemirror_mode": {
    "name": "ipython",
    "version": 3
   },
   "file_extension": ".py",
   "mimetype": "text/x-python",
   "name": "python",
   "nbconvert_exporter": "python",
   "pygments_lexer": "ipython3",
   "version": "3.11.9"
  }
 },
 "nbformat": 4,
 "nbformat_minor": 2
}
