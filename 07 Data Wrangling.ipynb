{
 "cells": [
  {
   "cell_type": "code",
   "execution_count": null,
   "metadata": {},
   "outputs": [],
   "source": [
    "import os\n",
    "import pandas as pd\n",
    "import numpy as np\n",
    "import matplotlib.pyplot as plt"
   ]
  },
  {
   "cell_type": "markdown",
   "metadata": {},
   "source": [
    "# OList Dataset\n",
    "\n",
    "## Overview\n",
    "\n",
    "> This is a Brazilian ecommerce public dataset of orders made at Olist Store. The dataset has information of 100k orders from 2016 to 2018 made at multiple marketplaces in Brazil. Its features allows viewing an order from multiple dimensions: from order status, price, payment and freight performance to customer location, product attributes and finally reviews written by customers. We also released a geolocation dataset that relates Brazilian zip codes to lat/lng coordinates.\n",
    "\n",
    "> This is real commercial data, it has been anonymised, and references to the companies and partners in the review text have been replaced with the names of Game of Thrones great houses.\n",
    "\n",
    "### Notes\n",
    "\n",
    "- An order might have multiple items.\n",
    "- Each item might be fulfilled by a distinct seller.\n",
    "- All text identifying stores and partners where replaced by the names of Game of Thrones great houses.\n",
    "\n",
    "### References\n",
    "- https://www.kaggle.com/datasets/olistbr/brazilian-ecommerce\n",
    "- Data architecture: https://imgur.com/HRhd2Y0"
   ]
  },
  {
   "cell_type": "code",
   "execution_count": null,
   "metadata": {},
   "outputs": [],
   "source": [
    "import os\n",
    "import pandas as pd\n",
    "import numpy as np\n",
    "import matplotlib.pyplot as plt"
   ]
  },
  {
   "cell_type": "code",
   "execution_count": null,
   "metadata": {},
   "outputs": [],
   "source": [
    "# Dataset directory\n",
    "\n",
    "DATASET_PATH = './data/olist'\n",
    "\n",
    "dataset_fnames = os.listdir(DATASET_PATH)"
   ]
  },
  {
   "cell_type": "markdown",
   "metadata": {},
   "source": [
    "## Exploring data"
   ]
  },
  {
   "cell_type": "code",
   "execution_count": null,
   "metadata": {},
   "outputs": [],
   "source": [
    "def summarize(df):\n",
    "    print(df.info())\n",
    "    print('\\n\\n---\\n\\n')\n",
    "    print(f'Nulls:\\n{df.isnull().sum()}')"
   ]
  },
  {
   "cell_type": "code",
   "execution_count": null,
   "metadata": {},
   "outputs": [],
   "source": [
    "for fname in dataset_fnames:\n",
    "    print('*'*len(fname))\n",
    "    print(fname)\n",
    "    print('*'*len(fname)+'\\n')\n",
    "    df = pd.read_csv(DATASET_PATH+'/'+fname)\n",
    "    summarize(df)\n",
    "    print('\\n\\n\\n')\n",
    "    del df"
   ]
  },
  {
   "cell_type": "code",
   "execution_count": null,
   "metadata": {},
   "outputs": [],
   "source": []
  },
  {
   "cell_type": "markdown",
   "metadata": {},
   "source": [
    "## Tasks\n",
    "\n",
    "- Preprocess the data, fill in missing values whenever possible\n",
    "- Explore the reliability of the data, are all of them trustworthy?\n",
    "- Analyze the data for outliers, skewness, and other anomalies\n",
    "- Answer the questions below (you can come up with your own questions)"
   ]
  },
  {
   "cell_type": "markdown",
   "metadata": {},
   "source": [
    "### Questions\n",
    "\n",
    "- Customer Acquisition and Demographics:\n",
    "\n",
    "    1. How many unique customers are there in the dataset?\n",
    "    2. What are the top 5 cities with the most customers?\n",
    "    3. What is the top 5 state with the highest customer spending?\n",
    "\n",
    "- Order Patterns and Behavior:\n",
    "\n",
    "    4. What is the distribution of order statuses?\n",
    "    5. Calculate the average order value for each customer.\n",
    "    6. Find the customer who has spent the most money across all their orders.\n",
    "    7. Identify any seasonal trends in order volume by analyzing the order_purchase_timestamp.\n",
    "\n",
    "- Product Analysis:\n",
    "\n",
    "    8. Identify the top 10 product categories by total sales value.\n",
    "    9. Analyze the relationship between product description length and sales.\n",
    "    10. Find the correlation between product weight and shipping cost (freight_value).\n",
    "\n",
    "- Seller Performance:\n",
    "\n",
    "    11. Which seller has the highest number of orders?\n",
    "    12. Calculate the average order processing time (time between order_purchase_timestamp and order_approved_at) for each seller.\n",
    "    13. Create a geospatial visualization of seller locations and compare with customer locations.\n",
    "\n",
    "- Shipping and Logistics:\n",
    "\n",
    "    14. Calculate the average time between order placement and delivery for completed orders.\n",
    "    15. Calculate the percentage of orders that were delivered earlier than the estimated delivery date.\n",
    "\n",
    "- Payment Analysis:\n",
    "\n",
    "    16. What is the most common payment type, and does it vary by state?\n",
    "    17. Identify products with the highest profit margin (assuming profit is the difference between price and freight_value).\n",
    "\n",
    "- Customer Satisfaction and Retention:\n",
    "\n",
    "    18. What is the average review score for each product category?\n",
    "    19. Analyze the relationship between review scores and order processing time.\n",
    "    20. Create a cohort analysis to see how customer retention rates change over time.\n",
    "\n",
    "\n"
   ]
  },
  {
   "cell_type": "code",
   "execution_count": null,
   "metadata": {},
   "outputs": [],
   "source": []
  }
 ],
 "metadata": {
  "kernelspec": {
   "display_name": "tutor-an",
   "language": "python",
   "name": "python3"
  },
  "language_info": {
   "codemirror_mode": {
    "name": "ipython",
    "version": 3
   },
   "file_extension": ".py",
   "mimetype": "text/x-python",
   "name": "python",
   "nbconvert_exporter": "python",
   "pygments_lexer": "ipython3",
   "version": "3.11.9"
  }
 },
 "nbformat": 4,
 "nbformat_minor": 2
}
