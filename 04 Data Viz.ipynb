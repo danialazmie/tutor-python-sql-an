{
 "cells": [
  {
   "cell_type": "code",
   "execution_count": 1,
   "metadata": {},
   "outputs": [],
   "source": [
    "import pandas as pd\n",
    "import numpy as np"
   ]
  },
  {
   "cell_type": "code",
   "execution_count": 65,
   "metadata": {},
   "outputs": [],
   "source": [
    "df_loans = pd.read_csv('data/loans/loan.csv', low_memory=False)"
   ]
  },
  {
   "cell_type": "code",
   "execution_count": 4,
   "metadata": {},
   "outputs": [
    {
     "name": "stdout",
     "output_type": "stream",
     "text": [
      "<class 'pandas.core.frame.DataFrame'>\n",
      "RangeIndex: 577682 entries, 0 to 577681\n",
      "Data columns (total 19 columns):\n",
      " #   Column                            Non-Null Count   Dtype  \n",
      "---  ------                            --------------   -----  \n",
      " 0   loanId                            577426 non-null  object \n",
      " 1   anon_ssn                          577682 non-null  object \n",
      " 2   payFrequency                      576409 non-null  object \n",
      " 3   apr                               573760 non-null  float64\n",
      " 4   applicationDate                   577682 non-null  object \n",
      " 5   originated                        577682 non-null  bool   \n",
      " 6   originatedDate                    46044 non-null   object \n",
      " 7   nPaidOff                          577658 non-null  float64\n",
      " 8   approved                          577682 non-null  bool   \n",
      " 9   isFunded                          577682 non-null  int64  \n",
      " 10  loanStatus                        577291 non-null  object \n",
      " 11  loanAmount                        575432 non-null  float64\n",
      " 12  originallyScheduledPaymentAmount  577682 non-null  float64\n",
      " 13  state                             577550 non-null  object \n",
      " 14  leadType                          577682 non-null  object \n",
      " 15  leadCost                          577682 non-null  int64  \n",
      " 16  fpStatus                          51723 non-null   object \n",
      " 17  clarityFraudId                    357693 non-null  object \n",
      " 18  hasCF                             577682 non-null  int64  \n",
      "dtypes: bool(2), float64(4), int64(3), object(10)\n",
      "memory usage: 76.0+ MB\n"
     ]
    }
   ],
   "source": [
    "df_loans.info()"
   ]
  },
  {
   "cell_type": "code",
   "execution_count": 3,
   "metadata": {},
   "outputs": [
    {
     "data": {
      "text/html": [
       "<div>\n",
       "<style scoped>\n",
       "    .dataframe tbody tr th:only-of-type {\n",
       "        vertical-align: middle;\n",
       "    }\n",
       "\n",
       "    .dataframe tbody tr th {\n",
       "        vertical-align: top;\n",
       "    }\n",
       "\n",
       "    .dataframe thead th {\n",
       "        text-align: right;\n",
       "    }\n",
       "</style>\n",
       "<table border=\"1\" class=\"dataframe\">\n",
       "  <thead>\n",
       "    <tr style=\"text-align: right;\">\n",
       "      <th></th>\n",
       "      <th>loanId</th>\n",
       "      <th>anon_ssn</th>\n",
       "      <th>payFrequency</th>\n",
       "      <th>apr</th>\n",
       "      <th>applicationDate</th>\n",
       "      <th>originated</th>\n",
       "      <th>originatedDate</th>\n",
       "      <th>nPaidOff</th>\n",
       "      <th>approved</th>\n",
       "      <th>isFunded</th>\n",
       "      <th>loanStatus</th>\n",
       "      <th>loanAmount</th>\n",
       "      <th>originallyScheduledPaymentAmount</th>\n",
       "      <th>state</th>\n",
       "      <th>leadType</th>\n",
       "      <th>leadCost</th>\n",
       "      <th>fpStatus</th>\n",
       "      <th>clarityFraudId</th>\n",
       "      <th>hasCF</th>\n",
       "    </tr>\n",
       "  </thead>\n",
       "  <tbody>\n",
       "    <tr>\n",
       "      <th>0</th>\n",
       "      <td>LL-I-07399092</td>\n",
       "      <td>beff4989be82aab4a5b47679216942fd</td>\n",
       "      <td>B</td>\n",
       "      <td>360.0</td>\n",
       "      <td>2016-02-23T17:29:01.940000</td>\n",
       "      <td>False</td>\n",
       "      <td>NaN</td>\n",
       "      <td>0.0</td>\n",
       "      <td>False</td>\n",
       "      <td>0</td>\n",
       "      <td>Withdrawn Application</td>\n",
       "      <td>500.0</td>\n",
       "      <td>978.27</td>\n",
       "      <td>IL</td>\n",
       "      <td>bvMandatory</td>\n",
       "      <td>6</td>\n",
       "      <td>NaN</td>\n",
       "      <td>5669ef78e4b0c9d3936440e6</td>\n",
       "      <td>1</td>\n",
       "    </tr>\n",
       "    <tr>\n",
       "      <th>1</th>\n",
       "      <td>LL-I-06644937</td>\n",
       "      <td>464f5d9ae4fa09ece4048d949191865c</td>\n",
       "      <td>B</td>\n",
       "      <td>199.0</td>\n",
       "      <td>2016-01-19T22:07:36.778000</td>\n",
       "      <td>True</td>\n",
       "      <td>2016-01-20T15:49:18.846000</td>\n",
       "      <td>0.0</td>\n",
       "      <td>True</td>\n",
       "      <td>1</td>\n",
       "      <td>Paid Off Loan</td>\n",
       "      <td>3000.0</td>\n",
       "      <td>6395.19</td>\n",
       "      <td>CA</td>\n",
       "      <td>prescreen</td>\n",
       "      <td>0</td>\n",
       "      <td>Checked</td>\n",
       "      <td>569eb3a3e4b096699f685d64</td>\n",
       "      <td>1</td>\n",
       "    </tr>\n",
       "    <tr>\n",
       "      <th>2</th>\n",
       "      <td>LL-I-10707532</td>\n",
       "      <td>3c174ae9e2505a5f9ddbff9843281845</td>\n",
       "      <td>B</td>\n",
       "      <td>590.0</td>\n",
       "      <td>2016-08-01T13:51:14.709000</td>\n",
       "      <td>False</td>\n",
       "      <td>NaN</td>\n",
       "      <td>0.0</td>\n",
       "      <td>False</td>\n",
       "      <td>0</td>\n",
       "      <td>Withdrawn Application</td>\n",
       "      <td>400.0</td>\n",
       "      <td>1199.45</td>\n",
       "      <td>MO</td>\n",
       "      <td>bvMandatory</td>\n",
       "      <td>3</td>\n",
       "      <td>NaN</td>\n",
       "      <td>579eab11e4b0d0502870ef2f</td>\n",
       "      <td>1</td>\n",
       "    </tr>\n",
       "    <tr>\n",
       "      <th>3</th>\n",
       "      <td>LL-I-02272596</td>\n",
       "      <td>9be6f443bb97db7e95fa0c281d34da91</td>\n",
       "      <td>B</td>\n",
       "      <td>360.0</td>\n",
       "      <td>2015-08-06T23:58:08.880000</td>\n",
       "      <td>False</td>\n",
       "      <td>NaN</td>\n",
       "      <td>0.0</td>\n",
       "      <td>False</td>\n",
       "      <td>0</td>\n",
       "      <td>Withdrawn Application</td>\n",
       "      <td>500.0</td>\n",
       "      <td>1074.05</td>\n",
       "      <td>IL</td>\n",
       "      <td>bvMandatory</td>\n",
       "      <td>3</td>\n",
       "      <td>NaN</td>\n",
       "      <td>555b1e95e4b0f6f11b267c18</td>\n",
       "      <td>1</td>\n",
       "    </tr>\n",
       "    <tr>\n",
       "      <th>4</th>\n",
       "      <td>LL-I-09542882</td>\n",
       "      <td>63b5494f60b5c19c827c7b068443752c</td>\n",
       "      <td>B</td>\n",
       "      <td>590.0</td>\n",
       "      <td>2016-06-05T22:31:34.304000</td>\n",
       "      <td>False</td>\n",
       "      <td>NaN</td>\n",
       "      <td>0.0</td>\n",
       "      <td>False</td>\n",
       "      <td>0</td>\n",
       "      <td>Rejected</td>\n",
       "      <td>350.0</td>\n",
       "      <td>814.37</td>\n",
       "      <td>NV</td>\n",
       "      <td>bvMandatory</td>\n",
       "      <td>3</td>\n",
       "      <td>NaN</td>\n",
       "      <td>5754a91be4b0c6a2bf424772</td>\n",
       "      <td>1</td>\n",
       "    </tr>\n",
       "  </tbody>\n",
       "</table>\n",
       "</div>"
      ],
      "text/plain": [
       "          loanId                          anon_ssn payFrequency    apr  \\\n",
       "0  LL-I-07399092  beff4989be82aab4a5b47679216942fd            B  360.0   \n",
       "1  LL-I-06644937  464f5d9ae4fa09ece4048d949191865c            B  199.0   \n",
       "2  LL-I-10707532  3c174ae9e2505a5f9ddbff9843281845            B  590.0   \n",
       "3  LL-I-02272596  9be6f443bb97db7e95fa0c281d34da91            B  360.0   \n",
       "4  LL-I-09542882  63b5494f60b5c19c827c7b068443752c            B  590.0   \n",
       "\n",
       "              applicationDate  originated              originatedDate  \\\n",
       "0  2016-02-23T17:29:01.940000       False                         NaN   \n",
       "1  2016-01-19T22:07:36.778000        True  2016-01-20T15:49:18.846000   \n",
       "2  2016-08-01T13:51:14.709000       False                         NaN   \n",
       "3  2015-08-06T23:58:08.880000       False                         NaN   \n",
       "4  2016-06-05T22:31:34.304000       False                         NaN   \n",
       "\n",
       "   nPaidOff  approved  isFunded             loanStatus  loanAmount  \\\n",
       "0       0.0     False         0  Withdrawn Application       500.0   \n",
       "1       0.0      True         1          Paid Off Loan      3000.0   \n",
       "2       0.0     False         0  Withdrawn Application       400.0   \n",
       "3       0.0     False         0  Withdrawn Application       500.0   \n",
       "4       0.0     False         0               Rejected       350.0   \n",
       "\n",
       "   originallyScheduledPaymentAmount state     leadType  leadCost fpStatus  \\\n",
       "0                            978.27    IL  bvMandatory         6      NaN   \n",
       "1                           6395.19    CA    prescreen         0  Checked   \n",
       "2                           1199.45    MO  bvMandatory         3      NaN   \n",
       "3                           1074.05    IL  bvMandatory         3      NaN   \n",
       "4                            814.37    NV  bvMandatory         3      NaN   \n",
       "\n",
       "             clarityFraudId  hasCF  \n",
       "0  5669ef78e4b0c9d3936440e6      1  \n",
       "1  569eb3a3e4b096699f685d64      1  \n",
       "2  579eab11e4b0d0502870ef2f      1  \n",
       "3  555b1e95e4b0f6f11b267c18      1  \n",
       "4  5754a91be4b0c6a2bf424772      1  "
      ]
     },
     "execution_count": 3,
     "metadata": {},
     "output_type": "execute_result"
    }
   ],
   "source": [
    "df_loans.head(5)"
   ]
  },
  {
   "cell_type": "code",
   "execution_count": 6,
   "metadata": {},
   "outputs": [],
   "source": [
    "df_payment = pd.read_csv('data/loans/payment.csv')"
   ]
  },
  {
   "cell_type": "code",
   "execution_count": 7,
   "metadata": {},
   "outputs": [
    {
     "name": "stdout",
     "output_type": "stream",
     "text": [
      "<class 'pandas.core.frame.DataFrame'>\n",
      "RangeIndex: 689364 entries, 0 to 689363\n",
      "Data columns (total 9 columns):\n",
      " #   Column             Non-Null Count   Dtype  \n",
      "---  ------             --------------   -----  \n",
      " 0   loanId             689364 non-null  object \n",
      " 1   installmentIndex   689364 non-null  int64  \n",
      " 2   isCollection       689364 non-null  bool   \n",
      " 3   paymentDate        689364 non-null  object \n",
      " 4   principal          689364 non-null  float64\n",
      " 5   fees               689364 non-null  float64\n",
      " 6   paymentAmount      689364 non-null  float64\n",
      " 7   paymentStatus      525307 non-null  object \n",
      " 8   paymentReturnCode  31533 non-null   object \n",
      "dtypes: bool(1), float64(3), int64(1), object(4)\n",
      "memory usage: 42.7+ MB\n"
     ]
    }
   ],
   "source": [
    "df_payment.info()"
   ]
  },
  {
   "cell_type": "code",
   "execution_count": 12,
   "metadata": {},
   "outputs": [
    {
     "data": {
      "text/html": [
       "<div>\n",
       "<style scoped>\n",
       "    .dataframe tbody tr th:only-of-type {\n",
       "        vertical-align: middle;\n",
       "    }\n",
       "\n",
       "    .dataframe tbody tr th {\n",
       "        vertical-align: top;\n",
       "    }\n",
       "\n",
       "    .dataframe thead th {\n",
       "        text-align: right;\n",
       "    }\n",
       "</style>\n",
       "<table border=\"1\" class=\"dataframe\">\n",
       "  <thead>\n",
       "    <tr style=\"text-align: right;\">\n",
       "      <th></th>\n",
       "      <th>loanId</th>\n",
       "      <th>installmentIndex</th>\n",
       "      <th>isCollection</th>\n",
       "      <th>paymentDate</th>\n",
       "      <th>principal</th>\n",
       "      <th>fees</th>\n",
       "      <th>paymentAmount</th>\n",
       "      <th>paymentStatus</th>\n",
       "      <th>paymentReturnCode</th>\n",
       "    </tr>\n",
       "  </thead>\n",
       "  <tbody>\n",
       "    <tr>\n",
       "      <th>0</th>\n",
       "      <td>LL-I-00000021</td>\n",
       "      <td>1</td>\n",
       "      <td>False</td>\n",
       "      <td>2014-12-19T05:00:00</td>\n",
       "      <td>22.33</td>\n",
       "      <td>147.28</td>\n",
       "      <td>169.61</td>\n",
       "      <td>Checked</td>\n",
       "      <td>NaN</td>\n",
       "    </tr>\n",
       "    <tr>\n",
       "      <th>1</th>\n",
       "      <td>LL-I-00000021</td>\n",
       "      <td>2</td>\n",
       "      <td>False</td>\n",
       "      <td>2015-01-02T05:00:00</td>\n",
       "      <td>26.44</td>\n",
       "      <td>143.17</td>\n",
       "      <td>169.61</td>\n",
       "      <td>Checked</td>\n",
       "      <td>NaN</td>\n",
       "    </tr>\n",
       "    <tr>\n",
       "      <th>2</th>\n",
       "      <td>LL-I-00000021</td>\n",
       "      <td>3</td>\n",
       "      <td>False</td>\n",
       "      <td>2015-01-16T05:00:00</td>\n",
       "      <td>31.30</td>\n",
       "      <td>138.31</td>\n",
       "      <td>169.61</td>\n",
       "      <td>Checked</td>\n",
       "      <td>NaN</td>\n",
       "    </tr>\n",
       "    <tr>\n",
       "      <th>3</th>\n",
       "      <td>LL-I-00000021</td>\n",
       "      <td>4</td>\n",
       "      <td>False</td>\n",
       "      <td>2015-01-30T05:00:00</td>\n",
       "      <td>37.07</td>\n",
       "      <td>132.54</td>\n",
       "      <td>169.61</td>\n",
       "      <td>Checked</td>\n",
       "      <td>NaN</td>\n",
       "    </tr>\n",
       "    <tr>\n",
       "      <th>4</th>\n",
       "      <td>LL-I-00000021</td>\n",
       "      <td>5</td>\n",
       "      <td>False</td>\n",
       "      <td>2015-02-13T05:00:00</td>\n",
       "      <td>43.89</td>\n",
       "      <td>125.72</td>\n",
       "      <td>169.61</td>\n",
       "      <td>Checked</td>\n",
       "      <td>NaN</td>\n",
       "    </tr>\n",
       "    <tr>\n",
       "      <th>5</th>\n",
       "      <td>LL-I-00000021</td>\n",
       "      <td>6</td>\n",
       "      <td>False</td>\n",
       "      <td>2015-02-27T05:00:00</td>\n",
       "      <td>51.97</td>\n",
       "      <td>117.64</td>\n",
       "      <td>169.61</td>\n",
       "      <td>Checked</td>\n",
       "      <td>NaN</td>\n",
       "    </tr>\n",
       "    <tr>\n",
       "      <th>6</th>\n",
       "      <td>LL-I-00000021</td>\n",
       "      <td>7</td>\n",
       "      <td>False</td>\n",
       "      <td>2015-03-13T04:00:00</td>\n",
       "      <td>61.54</td>\n",
       "      <td>108.07</td>\n",
       "      <td>169.61</td>\n",
       "      <td>Checked</td>\n",
       "      <td>NaN</td>\n",
       "    </tr>\n",
       "    <tr>\n",
       "      <th>7</th>\n",
       "      <td>LL-I-00000021</td>\n",
       "      <td>8</td>\n",
       "      <td>False</td>\n",
       "      <td>2015-03-27T04:00:00</td>\n",
       "      <td>72.87</td>\n",
       "      <td>96.74</td>\n",
       "      <td>169.61</td>\n",
       "      <td>Checked</td>\n",
       "      <td>NaN</td>\n",
       "    </tr>\n",
       "    <tr>\n",
       "      <th>8</th>\n",
       "      <td>LL-I-00000021</td>\n",
       "      <td>9</td>\n",
       "      <td>False</td>\n",
       "      <td>2015-04-10T04:00:00</td>\n",
       "      <td>86.29</td>\n",
       "      <td>83.32</td>\n",
       "      <td>169.61</td>\n",
       "      <td>Checked</td>\n",
       "      <td>NaN</td>\n",
       "    </tr>\n",
       "    <tr>\n",
       "      <th>9</th>\n",
       "      <td>LL-I-00000021</td>\n",
       "      <td>10</td>\n",
       "      <td>False</td>\n",
       "      <td>2015-04-24T04:00:00</td>\n",
       "      <td>102.17</td>\n",
       "      <td>67.44</td>\n",
       "      <td>169.61</td>\n",
       "      <td>Rejected</td>\n",
       "      <td>R01</td>\n",
       "    </tr>\n",
       "  </tbody>\n",
       "</table>\n",
       "</div>"
      ],
      "text/plain": [
       "          loanId  installmentIndex  isCollection          paymentDate  \\\n",
       "0  LL-I-00000021                 1         False  2014-12-19T05:00:00   \n",
       "1  LL-I-00000021                 2         False  2015-01-02T05:00:00   \n",
       "2  LL-I-00000021                 3         False  2015-01-16T05:00:00   \n",
       "3  LL-I-00000021                 4         False  2015-01-30T05:00:00   \n",
       "4  LL-I-00000021                 5         False  2015-02-13T05:00:00   \n",
       "5  LL-I-00000021                 6         False  2015-02-27T05:00:00   \n",
       "6  LL-I-00000021                 7         False  2015-03-13T04:00:00   \n",
       "7  LL-I-00000021                 8         False  2015-03-27T04:00:00   \n",
       "8  LL-I-00000021                 9         False  2015-04-10T04:00:00   \n",
       "9  LL-I-00000021                10         False  2015-04-24T04:00:00   \n",
       "\n",
       "   principal    fees  paymentAmount paymentStatus paymentReturnCode  \n",
       "0      22.33  147.28         169.61       Checked               NaN  \n",
       "1      26.44  143.17         169.61       Checked               NaN  \n",
       "2      31.30  138.31         169.61       Checked               NaN  \n",
       "3      37.07  132.54         169.61       Checked               NaN  \n",
       "4      43.89  125.72         169.61       Checked               NaN  \n",
       "5      51.97  117.64         169.61       Checked               NaN  \n",
       "6      61.54  108.07         169.61       Checked               NaN  \n",
       "7      72.87   96.74         169.61       Checked               NaN  \n",
       "8      86.29   83.32         169.61       Checked               NaN  \n",
       "9     102.17   67.44         169.61      Rejected               R01  "
      ]
     },
     "execution_count": 12,
     "metadata": {},
     "output_type": "execute_result"
    }
   ],
   "source": [
    "df_payment.head(10)"
   ]
  },
  {
   "cell_type": "code",
   "execution_count": 10,
   "metadata": {},
   "outputs": [],
   "source": [
    "df_uw = pd.read_csv('data/loans/clarity_underwriting_variables.csv', low_memory=False)"
   ]
  },
  {
   "cell_type": "code",
   "execution_count": 11,
   "metadata": {},
   "outputs": [
    {
     "name": "stdout",
     "output_type": "stream",
     "text": [
      "<class 'pandas.core.frame.DataFrame'>\n",
      "RangeIndex: 49752 entries, 0 to 49751\n",
      "Data columns (total 54 columns):\n",
      " #   Column                                                                                               Non-Null Count  Dtype  \n",
      "---  ------                                                                                               --------------  -----  \n",
      " 0   .underwritingdataclarity.clearfraud.clearfraudinquiry.thirtydaysago                                  49750 non-null  float64\n",
      " 1   .underwritingdataclarity.clearfraud.clearfraudinquiry.twentyfourhoursago                             49750 non-null  float64\n",
      " 2   .underwritingdataclarity.clearfraud.clearfraudinquiry.oneminuteago                                   49750 non-null  float64\n",
      " 3   .underwritingdataclarity.clearfraud.clearfraudinquiry.onehourago                                     49750 non-null  float64\n",
      " 4   .underwritingdataclarity.clearfraud.clearfraudinquiry.ninetydaysago                                  49750 non-null  float64\n",
      " 5   .underwritingdataclarity.clearfraud.clearfraudinquiry.sevendaysago                                   49750 non-null  float64\n",
      " 6   .underwritingdataclarity.clearfraud.clearfraudinquiry.tenminutesago                                  49750 non-null  float64\n",
      " 7   .underwritingdataclarity.clearfraud.clearfraudinquiry.fifteendaysago                                 49750 non-null  float64\n",
      " 8   .underwritingdataclarity.clearfraud.clearfraudinquiry.threesixtyfivedaysago                          49750 non-null  float64\n",
      " 9   .underwritingdataclarity.clearfraud.clearfraudindicator.inquiryonfilecurrentaddressconflict          49712 non-null  object \n",
      " 10  .underwritingdataclarity.clearfraud.clearfraudindicator.totalnumberoffraudindicators                 49735 non-null  float64\n",
      " 11  .underwritingdataclarity.clearfraud.clearfraudindicator.telephonenumberinconsistentwithaddress       49712 non-null  object \n",
      " 12  .underwritingdataclarity.clearfraud.clearfraudindicator.inquiryageyoungerthanssnissuedate            49712 non-null  object \n",
      " 13  .underwritingdataclarity.clearfraud.clearfraudindicator.onfileaddresscautious                        49712 non-null  object \n",
      " 14  .underwritingdataclarity.clearfraud.clearfraudindicator.inquiryaddressnonresidential                 49712 non-null  object \n",
      " 15  .underwritingdataclarity.clearfraud.clearfraudindicator.onfileaddresshighrisk                        49712 non-null  object \n",
      " 16  .underwritingdataclarity.clearfraud.clearfraudindicator.ssnreportedmorefrequentlyforanother          49712 non-null  object \n",
      " 17  .underwritingdataclarity.clearfraud.clearfraudindicator.currentaddressreportedbytradeopenlt90days    49712 non-null  object \n",
      " 18  .underwritingdataclarity.clearfraud.clearfraudindicator.inputssninvalid                              49712 non-null  object \n",
      " 19  .underwritingdataclarity.clearfraud.clearfraudindicator.inputssnissuedatecannotbeverified            49712 non-null  object \n",
      " 20  .underwritingdataclarity.clearfraud.clearfraudindicator.inquiryaddresscautious                       49712 non-null  object \n",
      " 21  .underwritingdataclarity.clearfraud.clearfraudindicator.morethan3inquiriesinthelast30days            49712 non-null  object \n",
      " 22  .underwritingdataclarity.clearfraud.clearfraudindicator.onfileaddressnonresidential                  49712 non-null  object \n",
      " 23  .underwritingdataclarity.clearfraud.clearfraudindicator.creditestablishedpriortossnissuedate         49712 non-null  object \n",
      " 24  .underwritingdataclarity.clearfraud.clearfraudindicator.driverlicenseformatinvalid                   44703 non-null  object \n",
      " 25  .underwritingdataclarity.clearfraud.clearfraudindicator.inputssnrecordedasdeceased                   49712 non-null  object \n",
      " 26  .underwritingdataclarity.clearfraud.clearfraudindicator.inquiryaddresshighrisk                       49712 non-null  object \n",
      " 27  .underwritingdataclarity.clearfraud.clearfraudindicator.inquirycurrentaddressnotonfile               49712 non-null  object \n",
      " 28  .underwritingdataclarity.clearfraud.clearfraudindicator.bestonfilessnissuedatecannotbeverified       49712 non-null  object \n",
      " 29  .underwritingdataclarity.clearfraud.clearfraudindicator.highprobabilityssnbelongstoanother           49712 non-null  object \n",
      " 30  .underwritingdataclarity.clearfraud.clearfraudindicator.maxnumberofssnswithanybankaccount            49735 non-null  float64\n",
      " 31  .underwritingdataclarity.clearfraud.clearfraudindicator.bestonfilessnrecordedasdeceased              49712 non-null  object \n",
      " 32  .underwritingdataclarity.clearfraud.clearfraudindicator.currentaddressreportedbynewtradeonly         49712 non-null  object \n",
      " 33  .underwritingdataclarity.clearfraud.clearfraudindicator.creditestablishedbeforeage18                 49712 non-null  object \n",
      " 34  .underwritingdataclarity.clearfraud.clearfraudindicator.telephonenumberinconsistentwithstate         49071 non-null  object \n",
      " 35  .underwritingdataclarity.clearfraud.clearfraudindicator.driverlicenseinconsistentwithonfile          10055 non-null  object \n",
      " 36  .underwritingdataclarity.clearfraud.clearfraudindicator.workphonepreviouslylistedascellphone         21416 non-null  object \n",
      " 37  .underwritingdataclarity.clearfraud.clearfraudindicator.workphonepreviouslylistedashomephone         21416 non-null  object \n",
      " 38  .underwritingdataclarity.clearfraud.clearfraudidentityverification.ssnnamematch                      49720 non-null  object \n",
      " 39  .underwritingdataclarity.clearfraud.clearfraudidentityverification.nameaddressmatch                  49720 non-null  object \n",
      " 40  .underwritingdataclarity.clearfraud.clearfraudidentityverification.phonematchtype                    48799 non-null  object \n",
      " 41  .underwritingdataclarity.clearfraud.clearfraudidentityverification.ssnnamereasoncodedescription      2669 non-null   object \n",
      " 42  .underwritingdataclarity.clearfraud.clearfraudidentityverification.phonematchresult                  49712 non-null  object \n",
      " 43  .underwritingdataclarity.clearfraud.clearfraudidentityverification.nameaddressreasoncodedescription  5627 non-null   object \n",
      " 44  .underwritingdataclarity.clearfraud.clearfraudidentityverification.phonematchtypedescription         48799 non-null  object \n",
      " 45  .underwritingdataclarity.clearfraud.clearfraudidentityverification.overallmatchresult                49720 non-null  object \n",
      " 46  .underwritingdataclarity.clearfraud.clearfraudidentityverification.phonetype                         1515 non-null   object \n",
      " 47  .underwritingdataclarity.clearfraud.clearfraudidentityverification.ssndobreasoncode                  9029 non-null   object \n",
      " 48  .underwritingdataclarity.clearfraud.clearfraudidentityverification.ssnnamereasoncode                 2669 non-null   object \n",
      " 49  .underwritingdataclarity.clearfraud.clearfraudidentityverification.nameaddressreasoncode             5627 non-null   object \n",
      " 50  .underwritingdataclarity.clearfraud.clearfraudidentityverification.ssndobmatch                       49720 non-null  object \n",
      " 51  .underwritingdataclarity.clearfraud.clearfraudidentityverification.overallmatchreasoncode            49720 non-null  float64\n",
      " 52  clearfraudscore                                                                                      49615 non-null  float64\n",
      " 53  underwritingid                                                                                       49752 non-null  object \n",
      "dtypes: float64(13), object(41)\n",
      "memory usage: 20.5+ MB\n"
     ]
    }
   ],
   "source": [
    "df_uw.info()"
   ]
  },
  {
   "cell_type": "markdown",
   "metadata": {},
   "source": [
    "Data exploration and preprocessing:\n",
    "\n",
    "- How many unique loans are in the dataset?\n",
    "- Are there any missing values? If so, in which columns?\n",
    "- What is the distribution of loan amounts?\n",
    "- Convert the 'applicationDate' and 'originatedDate' columns to datetime format.\n",
    "\n",
    "\n",
    "Loan approval analysis:\n",
    "\n",
    "- What percentage of loans are approved?\n",
    "- Compare the approval rates across different states.\n",
    "- Analyze the relationship between APR and approval status.\n",
    "\n",
    "\n",
    "Funding analysis:\n",
    "\n",
    "- What percentage of approved loans are ultimately funded?\n",
    "- Is there a correlation between loan amount and funding status?\n",
    "- Compare funding rates across different lead types.\n",
    "\n",
    "\n",
    "APR analysis:\n",
    "\n",
    "- Calculate the average, median, and range of APRs.\n",
    "- How does APR vary across different states?\n",
    "- Is there a correlation between APR and loan amount?\n",
    "\n",
    "\n",
    "Payment frequency analysis:\n",
    "\n",
    "- What is the distribution of payment frequencies?\n",
    "- Is there a relationship between payment frequency and loan amount?\n",
    "- Compare APRs across different payment frequencies.\n",
    "\n",
    "\n",
    "Lead type insights:\n",
    "\n",
    "- What is the distribution of lead types?\n",
    "- Compare average loan amounts across different lead types.\n",
    "- Analyze the relationship between lead type and approval rates.\n",
    "\n",
    "\n",
    "First payment status analysis:\n",
    "\n",
    "- What is the distribution of first payment statuses?\n",
    "- Is there a correlation between first payment status and loan amount?\n",
    "- Compare first payment success rates across different lead types.\n",
    "\n",
    "\n",
    "Customer history analysis:\n",
    "\n",
    "- What is the average number of paid-off loans per customer?\n",
    "- Is there a relationship between the number of paid-off loans and approval rates?\n",
    "- Compare loan amounts for new vs. returning customers.\n",
    "\n",
    "\n",
    "Geographical insights:\n",
    "\n",
    "- Which states have the highest number of loans?\n",
    "- Create a heatmap of average loan amounts by state.\n",
    "- Analyze how APRs vary across different regions (e.g., Northeast, South, Midwest, West).\n",
    "\n",
    "\n",
    "Time-based analysis:\n",
    "\n",
    "- Analyze the trend of loan applications over time.\n",
    "- Is there any seasonality in loan applications or approvals?\n",
    "- Compare approval rates and loan amounts for different months or quarters.\n",
    "\n",
    "\n",
    "Loan status analysis:\n",
    "\n",
    "- What is the distribution of loan statuses?\n",
    "- Analyze the relationship between loan status and loan amount.\n",
    "- Compare loan statuses across different lead types.\n",
    "\n",
    "\n",
    "Lead cost analysis:\n",
    "\n",
    "- Calculate the average lead cost.\n",
    "- Is there a correlation between lead cost and approval rates?\n",
    "- Compare lead costs across different lead types.\n",
    "\n",
    "\n",
    "Multivariate analysis:\n",
    "\n",
    "- Create a correlation matrix of numeric variables.\n",
    "- Perform a chi-square test to check for associations between categorical variables.\n",
    "- Use logistic regression to predict loan approval based on available features."
   ]
  },
  {
   "cell_type": "markdown",
   "metadata": {},
   "source": [
    "---"
   ]
  },
  {
   "cell_type": "markdown",
   "metadata": {},
   "source": [
    "Data exploration and preprocessing:\n",
    "\n",
    "- How many unique loans are in the dataset?\n",
    "- Are there any missing values? If so, in which columns?\n",
    "- What is the distribution of loan amounts?\n",
    "- Convert the 'applicationDate' and 'originatedDate' columns to datetime format."
   ]
  },
  {
   "cell_type": "code",
   "execution_count": 13,
   "metadata": {},
   "outputs": [
    {
     "data": {
      "text/plain": [
       "loanId\n",
       "LL-I-07399092    1\n",
       "LL-I-09120818    1\n",
       "LL-I-12495837    1\n",
       "LL-I-09315207    1\n",
       "LL-I-07105524    1\n",
       "                ..\n",
       "LL-I-18326270    1\n",
       "LL-I-14232965    1\n",
       "LL-I-06403601    1\n",
       "LL-I-10713224    1\n",
       "LL-I-04733921    1\n",
       "Name: count, Length: 577426, dtype: int64"
      ]
     },
     "execution_count": 13,
     "metadata": {},
     "output_type": "execute_result"
    }
   ],
   "source": [
    "# No. of unique values\n",
    "\n",
    "df_loans['loanId'].value_counts()"
   ]
  },
  {
   "cell_type": "code",
   "execution_count": 15,
   "metadata": {},
   "outputs": [
    {
     "data": {
      "text/plain": [
       "array(['LL-I-07399092', 'LL-I-06644937', 'LL-I-10707532', ...,\n",
       "       'LL-I-06962710', 'LL-I-01253468', 'LL-I-04733921'], dtype=object)"
      ]
     },
     "execution_count": 15,
     "metadata": {},
     "output_type": "execute_result"
    }
   ],
   "source": [
    "df_loans['loanId'].unique() #deduplicated"
   ]
  },
  {
   "cell_type": "code",
   "execution_count": 23,
   "metadata": {},
   "outputs": [
    {
     "data": {
      "text/plain": [
       "count    575432.000000\n",
       "mean        514.245084\n",
       "std         320.939929\n",
       "min           0.000000\n",
       "25%         350.000000\n",
       "50%         500.000000\n",
       "75%         500.000000\n",
       "max        5000.000000\n",
       "Name: loanAmount, dtype: float64"
      ]
     },
     "execution_count": 23,
     "metadata": {},
     "output_type": "execute_result"
    }
   ],
   "source": [
    "description_df_loans = df_loans['loanAmount'].describe()\n",
    "description_df_loans"
   ]
  },
  {
   "cell_type": "code",
   "execution_count": 24,
   "metadata": {},
   "outputs": [],
   "source": [
    "#upper_bound = (1.5 * std + 3rd quartile)\n",
    "\n",
    "upper_bound = 1.5*description_df_loans['std']+description_df_loans['75%']\n",
    "\n",
    "upper_filter = df_loans['loanAmount'] < upper_bound"
   ]
  },
  {
   "cell_type": "code",
   "execution_count": 31,
   "metadata": {},
   "outputs": [
    {
     "data": {
      "text/plain": [
       "<Axes: ylabel='Frequency'>"
      ]
     },
     "execution_count": 31,
     "metadata": {},
     "output_type": "execute_result"
    },
    {
     "data": {
      "image/png": "[encoded data removed]",
      "text/plain": [
       "<Figure size 640x480 with 1 Axes>"
      ]
     },
     "metadata": {},
     "output_type": "display_data"
    }
   ],
   "source": [
    "df_loans[upper_filter]['loanAmount'].plot(kind='hist', bins=13)"
   ]
  },
  {
   "cell_type": "code",
   "execution_count": 34,
   "metadata": {},
   "outputs": [
    {
     "data": {
      "text/plain": [
       "<Axes: >"
      ]
     },
     "execution_count": 34,
     "metadata": {},
     "output_type": "execute_result"
    },
    {
     "data": {
      "image/png": "[encoded data removed]",
      "text/plain": [
       "<Figure size 640x480 with 1 Axes>"
      ]
     },
     "metadata": {},
     "output_type": "display_data"
    }
   ],
   "source": [
    "df_loans[upper_filter]['loanAmount'].plot(kind='box')"
   ]
  },
  {
   "cell_type": "code",
   "execution_count": 67,
   "metadata": {},
   "outputs": [],
   "source": [
    "df_loans['applicationDate'] = df_loans['applicationDate'].apply(lambda x: x[:x.find('.')] if x.find('.') != -1 else x)"
   ]
  },
  {
   "cell_type": "code",
   "execution_count": 68,
   "metadata": {},
   "outputs": [
    {
     "data": {
      "text/plain": [
       "applicationDate\n",
       "-1    577682\n",
       "Name: count, dtype: int64"
      ]
     },
     "execution_count": 68,
     "metadata": {},
     "output_type": "execute_result"
    }
   ],
   "source": [
    "df_loans['applicationDate'].str.find('.').value_counts()"
   ]
  },
  {
   "cell_type": "code",
   "execution_count": 69,
   "metadata": {},
   "outputs": [
    {
     "data": {
      "text/plain": [
       "0        2016-02-23 17:29:01\n",
       "1        2016-01-19 22:07:36\n",
       "2        2016-08-01 13:51:14\n",
       "3        2015-08-06 23:58:08\n",
       "4        2016-06-05 22:31:34\n",
       "                 ...        \n",
       "577677   2016-11-08 17:32:33\n",
       "577678   2017-01-24 22:20:59\n",
       "577679   2016-02-02 03:05:47\n",
       "577680   2015-05-21 20:19:49\n",
       "577681   2015-11-17 22:04:20\n",
       "Name: applicationDate, Length: 577682, dtype: datetime64[ns]"
      ]
     },
     "execution_count": 69,
     "metadata": {},
     "output_type": "execute_result"
    }
   ],
   "source": [
    "df_loans['applicationDate'] = pd.to_datetime(df_loans['applicationDate'], format='%Y-%m-%dT%H:%M:%S')\n",
    "df_loans['applicationDate']\n",
    "\n",
    "# Just to note,\n",
    "# DATETIME = YYYY-MM-DD HH:MM:SS / YYYY-MM-DDTHH:MM:SS\n",
    "# DATE = YYYY-MM-DD\n",
    "# TIMESTAMP = YYYY-MM-DD HH:MM:SS\n",
    "# EPOCH = Seconds since 1970-01-01 00:00:00 UTC | 15234621362"
   ]
  },
  {
   "cell_type": "code",
   "execution_count": null,
   "metadata": {},
   "outputs": [],
   "source": []
  }
 ],
 "metadata": {
  "kernelspec": {
   "display_name": "tutor-an",
   "language": "python",
   "name": "python3"
  },
  "language_info": {
   "codemirror_mode": {
    "name": "ipython",
    "version": 3
   },
   "file_extension": ".py",
   "mimetype": "text/x-python",
   "name": "python",
   "nbconvert_exporter": "python",
   "pygments_lexer": "ipython3",
   "version": "3.11.9"
  }
 },
 "nbformat": 4,
 "nbformat_minor": 2
}
